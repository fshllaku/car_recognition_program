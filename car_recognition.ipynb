{
 "cells": [
  {
   "cell_type": "code",
   "execution_count": 7,
   "id": "a30510eb",
   "metadata": {},
   "outputs": [],
   "source": [
    "import numpy as np\n",
    "import tensorflow as tf\n",
    "from tensorflow import keras\n",
    "import tensorflow_datasets as tfds\n",
    "from matplotlib import pyplot as plt\n",
    "from tensorflow.keras.models import Sequential\n",
    "from tensorflow.keras import Model\n",
    "from tensorflow.keras import layers"
   ]
  },
  {
   "cell_type": "code",
   "execution_count": 8,
   "id": "ac026a5e",
   "metadata": {},
   "outputs": [],
   "source": [
    "(train_ds, test_ds), ds_info = tfds.load('cars196', split = [\"train\", \"test\"], as_supervised= True, with_info = True)"
   ]
  },
  {
   "cell_type": "code",
   "execution_count": 11,
   "id": "a9fd35a8",
   "metadata": {},
   "outputs": [],
   "source": [
    "height, width = 150, 150\n",
    "train_ds = train_ds.map(lambda x, y: (tf.image.resize(x, (height, width)), y))\n",
    "test_ds = test_ds.map(lambda x, y: (tf.image.resize(x, (height, width)), y))"
   ]
  },
  {
   "cell_type": "code",
   "execution_count": 12,
   "id": "a97d43ec",
   "metadata": {},
   "outputs": [],
   "source": [
    "batch_size = 32\n",
    "def augment_func(image,label):\n",
    "    image = tf.image.resize_with_crop_or_pad(image,height+6,width+6)\n",
    "    #image = tf.clip_by_value(image,0,255) #make sure you have no color value higher than 225 or lower than 0.\n",
    "    image = tf.image.random_crop(image,size=[height,width,3])\n",
    "    image = tf.image.random_flip_left_right(image) #different aspect of vehicles\n",
    "    image = tf.image.random_hue(image,0.2) #random color, change a red cat into a blue car\n",
    "    image = tf.image.random_contrast(image,0.5,2)# random contrast\n",
    "    image = tf.image.random_saturation(image,0,2)# random sturations\n",
    "    return image, label\n",
    "\n",
    "\n",
    "train_ds = train_ds.cache().map(augment_func).shuffle(100).batch(batch_size).prefetch(buffer_size=10) # cache makes the images ready before running\n",
    "test_ds = test_ds.cache().map(augment_func).batch(batch_size).prefetch(buffer_size=10)"
   ]
  },
  {
   "cell_type": "code",
   "execution_count": 13,
   "id": "4361cd74",
   "metadata": {},
   "outputs": [
    {
     "name": "stdout",
     "output_type": "stream",
     "text": [
      "Downloading data from https://storage.googleapis.com/tensorflow/keras-applications/xception/xception_weights_tf_dim_ordering_tf_kernels_notop.h5\n",
      "83689472/83683744 [==============================] - 40s 0us/step\n",
      "83697664/83683744 [==============================] - 40s 0us/step\n",
      "Model: \"model\"\n",
      "_________________________________________________________________\n",
      " Layer (type)                Output Shape              Param #   \n",
      "=================================================================\n",
      " input_2 (InputLayer)        [(None, 150, 150, 3)]     0         \n",
      "                                                                 \n",
      " normalization (Normalizatio  (None, 150, 150, 3)      7         \n",
      " n)                                                              \n",
      "                                                                 \n",
      " xception (Functional)       (None, 5, 5, 2048)        20861480  \n",
      "                                                                 \n",
      " global_average_pooling2d (G  (None, 2048)             0         \n",
      " lobalAveragePooling2D)                                          \n",
      "                                                                 \n",
      " dropout (Dropout)           (None, 2048)              0         \n",
      "                                                                 \n",
      " dense (Dense)               (None, 196)               401604    \n",
      "                                                                 \n",
      "=================================================================\n",
      "Total params: 21,263,091\n",
      "Trainable params: 401,604\n",
      "Non-trainable params: 20,861,487\n",
      "_________________________________________________________________\n"
     ]
    }
   ],
   "source": [
    "base_model = tf.keras.applications.Xception(\n",
    "    weights=\"imagenet\",  # Load weights pre-trained on ImageNet.\n",
    "    input_shape=(height, width, 3),\n",
    "    include_top=False, # Do not include the final ImageNet classifier layer at the top.\n",
    ")  \n",
    "\n",
    "base_model.trainable = False # We want to update all the model weights, so set this to true.\n",
    "\n",
    "# Create new model on surrounding our pretrained base model.\n",
    "inputs = tf.keras.Input(shape=(height, width, 3))\n",
    "\n",
    "# Pre-trained Xception weights requires that input be normalized\n",
    "# from (0, 255) to a range (-1., +1.), the normalization layer\n",
    "# does the following, outputs = (inputs - mean) / sqrt(var)\n",
    "norm_layer = keras.layers.experimental.preprocessing.Normalization()\n",
    "mean = np.array([127.5] * 3)\n",
    "var = mean ** 2\n",
    "# Scale inputs to [-1, +1]\n",
    "x = norm_layer(inputs)\n",
    "norm_layer.set_weights([mean, var,1])\n",
    "\n",
    "# The base model contains batchnorm layers. We want to keep them in inference mode\n",
    "# when we unfreeze the base model for fine-tuning, so we make sure that the\n",
    "# base_model is running in inference mode here.\n",
    "x = base_model(x, training=False)\n",
    "x = keras.layers.GlobalAveragePooling2D()(x) # this is a neural network operation to help adapt the features learned by the pretrained model to our specific task.\n",
    "x = keras.layers.Dropout(0.5)(x)  # Regularize with dropout\n",
    "num_outputs = ds_info.features['label'].num_classes # This is the number of output variables we want, 196 in this case.\n",
    "outputs = keras.layers.Dense(num_outputs, activation=\"softmax\")(x) # Use activation=softmax for classification, and activation=None for regression.\n",
    "model = keras.Model(inputs, outputs)\n",
    "\n",
    "model.summary()"
   ]
  },
  {
   "cell_type": "code",
   "execution_count": null,
   "id": "8ba3dcaf",
   "metadata": {},
   "outputs": [
    {
     "name": "stdout",
     "output_type": "stream",
     "text": [
      "Epoch 1/100\n"
     ]
    },
    {
     "name": "stderr",
     "output_type": "stream",
     "text": [
      "C:\\Users\\ASUS\\AppData\\Local\\Programs\\Python\\Python310\\lib\\site-packages\\tensorflow\\python\\util\\dispatch.py:1082: UserWarning: \"`sparse_categorical_crossentropy` received `from_logits=True`, but the `output` argument was produced by a sigmoid or softmax activation and thus does not represent logits. Was this intended?\"\n",
      "  return dispatch_target(*args, **kwargs)\n"
     ]
    },
    {
     "name": "stdout",
     "output_type": "stream",
     "text": [
      "  7/255 [..............................] - ETA: 3:54 - loss: 5.8367 - sparse_categorical_accuracy: 0.0045 "
     ]
    }
   ],
   "source": [
    "model.compile(optimizer='adam',\n",
    "                loss=tf.keras.losses.SparseCategoricalCrossentropy(from_logits=True),\n",
    "                metrics=['sparse_categorical_accuracy'])\n",
    "\n",
    "epochs = 100\n",
    "model.fit(train_ds, epochs=epochs,validation_data = test_ds)"
   ]
  },
  {
   "cell_type": "markdown",
   "id": "ee9d4175",
   "metadata": {},
   "source": [
    "Fine-Tune model"
   ]
  },
  {
   "cell_type": "code",
   "execution_count": null,
   "id": "d8de8824",
   "metadata": {},
   "outputs": [],
   "source": [
    "base_model.trainable = True\n",
    "\n",
    "model.compile(optimizer=keras.optimizers.Adam(5e-5), # 1e-5 was initially\n",
    "                loss=tf.keras.losses.SparseCategoricalCrossentropy(from_logits=True),\n",
    "                metrics=['sparse_categorical_accuracy'])\n",
    "\n",
    "epochs = 100\n",
    "model.fit(train_ds, epochs = epochs, validation_data = test_ds)"
   ]
  }
 ],
 "metadata": {
  "kernelspec": {
   "display_name": "smartclass",
   "language": "python",
   "name": "smartclass"
  },
  "language_info": {
   "codemirror_mode": {
    "name": "ipython",
    "version": 3
   },
   "file_extension": ".py",
   "mimetype": "text/x-python",
   "name": "python",
   "nbconvert_exporter": "python",
   "pygments_lexer": "ipython3",
   "version": "3.10.2"
  }
 },
 "nbformat": 4,
 "nbformat_minor": 5
}
